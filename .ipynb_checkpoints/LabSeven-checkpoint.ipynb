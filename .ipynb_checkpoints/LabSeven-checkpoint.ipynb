{
 "cells": [
  {
   "cell_type": "markdown",
   "id": "93b88464",
   "metadata": {},
   "source": [
    "# MANE 3351\n",
    "## Lab Seven\n",
    "### Your Name"
   ]
  },
  {
   "cell_type": "code",
   "execution_count": null,
   "id": "5c798194",
   "metadata": {},
   "outputs": [],
   "source": [
    "import math\n",
    "import numpy as np\n",
    "import matplotlib.pyplot as plt\n",
    "\n",
    "def pdf(z):\n",
    "    return math.exp(-z-math.exp(-z))\n",
    "\n",
    "# Step 2 - vectorize user-defined function pdf\n",
    "\n",
    "\n",
    "# Step 3 - create array containing 500 points from -10 to +10\n",
    "\n",
    "x=\n",
    "\n",
    "# Step 4 - create y and y2\n",
    "\n",
    "y=\n",
    "y2=\n",
    "\n",
    "# Step 5 accept user input for b and create maske\n",
    "\n",
    "b=\n",
    "#create maske based upon b\n",
    "\n",
    "# Step 6 - add and customize plotting code\n"
   ]
  }
 ],
 "metadata": {
  "kernelspec": {
   "display_name": "Python 3 (ipykernel)",
   "language": "python",
   "name": "python3"
  },
  "language_info": {
   "codemirror_mode": {
    "name": "ipython",
    "version": 3
   },
   "file_extension": ".py",
   "mimetype": "text/x-python",
   "name": "python",
   "nbconvert_exporter": "python",
   "pygments_lexer": "ipython3",
   "version": "3.10.12"
  }
 },
 "nbformat": 4,
 "nbformat_minor": 5
}
